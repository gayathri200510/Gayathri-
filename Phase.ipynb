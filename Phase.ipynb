{
  "nbformat": 4,
  "nbformat_minor": 0,
  "metadata": {
    "colab": {
      "provenance": [],
      "authorship_tag": "ABX9TyNGDi97ltC4vZa1CEcoz2r8",
      "include_colab_link": true
    },
    "kernelspec": {
      "name": "python3",
      "display_name": "Python 3"
    },
    "language_info": {
      "name": "python"
    }
  },
  "cells": [
    {
      "cell_type": "markdown",
      "metadata": {
        "id": "view-in-github",
        "colab_type": "text"
      },
      "source": [
        "<a href=\"https://colab.research.google.com/github/gayathri200510/Gayathri-/blob/main/Phase.ipynb\" target=\"_parent\"><img src=\"https://colab.research.google.com/assets/colab-badge.svg\" alt=\"Open In Colab\"/></a>"
      ]
    },
    {
      "cell_type": "code",
      "execution_count": null,
      "metadata": {
        "colab": {
          "base_uri": "https://localhost:8080/"
        },
        "id": "hXum4WwSYD-Y",
        "outputId": "ba52bc91-fc8e-4c55-e5e0-b3b378025c5a"
      },
      "outputs": [
        {
          "output_type": "stream",
          "name": "stdout",
          "text": [
            "          timestamp                                            comment  \\\n",
            "0  2025-05-01 10:00  Absolutely love the new features in this product!   \n",
            "1  2025-05-01 10:30  Terrible experience. I expected better perform...   \n",
            "2  2025-05-01 11:00           It’s okay, not bad but not great either.   \n",
            "\n",
            "  sentiment  \n",
            "0  Positive  \n",
            "1  Negative  \n",
            "2  Positive  \n"
          ]
        }
      ],
      "source": [
        "from textblob import TextBlob\n",
        "import pandas as pd\n",
        "\n",
        "# Sample data (replace this with actual tweets, comments, or reviews)\n",
        "data = {\n",
        "    'timestamp': ['2025-05-01 10:00', '2025-05-01 10:30', '2025-05-01 11:00'],\n",
        "    'comment': [\n",
        "        'Absolutely love the new features in this product!',\n",
        "        'Terrible experience. I expected better performance.',\n",
        "        'It’s okay, not bad but not great either.'\n",
        "    ]\n",
        "}\n",
        "\n",
        "# Create a DataFrame\n",
        "df = pd.DataFrame(data)\n",
        "\n",
        "# Function to get sentiment\n",
        "def analyze_sentiment(text):\n",
        "    blob = TextBlob(text)\n",
        "    polarity = blob.sentiment.polarity\n",
        "    if polarity > 0:\n",
        "        return 'Positive'\n",
        "    elif polarity < 0:\n",
        "        return 'Negative'\n",
        "    else:\n",
        "        return 'Neutral'\n",
        "\n",
        "# Apply sentiment analysis\n",
        "df['sentiment'] = df['comment'].apply(analyze_sentiment)\n",
        "\n",
        "# Print results\n",
        "print(df)"
      ]
    }
  ]
}